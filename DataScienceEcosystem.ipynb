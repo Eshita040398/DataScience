{
 "cells": [
  {
   "cell_type": "markdown",
   "id": "8060d444-d80d-40f9-9534-de42cb89d405",
   "metadata": {},
   "source": [
    "# Data Science Tools and Ecosystem"
   ]
  },
  {
   "cell_type": "markdown",
   "id": "f80983d6-00bd-4353-99f7-0eb4071b9d7e",
   "metadata": {},
   "source": [
    "# In this notebook, Data Science Tools and Ecosystem are summarised  "
   ]
  },
  {
   "cell_type": "markdown",
   "id": "90c77e46-7cc8-40b5-9ad9-5969ad0d03c6",
   "metadata": {},
   "source": [
    "# **Objectives**"
   ]
  },
  {
   "cell_type": "markdown",
   "id": "af5a19b5-3898-42d5-aeaf-ec69d9e71b07",
   "metadata": {},
   "source": [
    "#\n",
    "- List Popular Languages that Data Scientists Use\n",
    "- Commonly used Data Science Libraries\n",
    "- Data Science Tools"
   ]
  },
  {
   "cell_type": "markdown",
   "id": "b90c1e92-f873-4d99-8a68-30a6bd941db4",
   "metadata": {},
   "source": [
    "## Some of the popular languages that Data Scientists use are as follow:\n",
    "1. R\n",
    "2. SPSS\n",
    "3. PYTHON\n",
    "4. SQL"
   ]
  },
  {
   "cell_type": "code",
   "execution_count": null,
   "id": "7a0186a3-9ab0-48da-bc5c-a11330e5d62d",
   "metadata": {},
   "outputs": [],
   "source": []
  },
  {
   "cell_type": "markdown",
   "id": "8e4ba4bb-e0c4-4c70-91c7-dce5b9fe5c2d",
   "metadata": {},
   "source": [
    "## Some of the commonly used Data Science Libraries are:\n",
    "1. NumPy\n",
    "2. SciPy\n",
    "3. TensorFlow\n",
    "4. Matplotlib"
   ]
  },
  {
   "cell_type": "markdown",
   "id": "bd6a2b91-cb57-4ca5-ad02-9dd87b5eac80",
   "metadata": {},
   "source": [
    "|Data Science Tools|\n",
    "--------------------\n",
    "|Python|\n",
    "|R|\n",
    "|SQL|"
   ]
  },
  {
   "cell_type": "markdown",
   "id": "242e2ee7-7595-4091-9a47-404a7024bc61",
   "metadata": {},
   "source": [
    "### Below are a few examples of evaluating arithmetic expressions in Python"
   ]
  },
  {
   "cell_type": "code",
   "execution_count": 11,
   "id": "5738d9e2-d42d-4f85-bfc4-12d0ec0b97ae",
   "metadata": {},
   "outputs": [
    {
     "data": {
      "text/plain": [
       "14"
      ]
     },
     "execution_count": 11,
     "metadata": {},
     "output_type": "execute_result"
    }
   ],
   "source": [
    "11+3"
   ]
  },
  {
   "cell_type": "code",
   "execution_count": 13,
   "id": "1e4527ad-e9a7-4efd-9c83-2c1cbac0e00b",
   "metadata": {},
   "outputs": [
    {
     "data": {
      "text/plain": [
       "48"
      ]
     },
     "execution_count": 13,
     "metadata": {},
     "output_type": "execute_result"
    }
   ],
   "source": [
    "12*4"
   ]
  },
  {
   "cell_type": "code",
   "execution_count": 15,
   "id": "4877beda-5b7d-47a2-81d1-1fcc51870010",
   "metadata": {},
   "outputs": [
    {
     "data": {
      "text/plain": [
       "4.0"
      ]
     },
     "execution_count": 15,
     "metadata": {},
     "output_type": "execute_result"
    }
   ],
   "source": [
    "12/3"
   ]
  },
  {
   "cell_type": "code",
   "execution_count": 17,
   "id": "c681848c-3bd3-41f4-baf3-1d5dd6f0ca97",
   "metadata": {},
   "outputs": [
    {
     "data": {
      "text/plain": [
       "8"
      ]
     },
     "execution_count": 17,
     "metadata": {},
     "output_type": "execute_result"
    }
   ],
   "source": [
    "10-2"
   ]
  },
  {
   "cell_type": "markdown",
   "id": "102c7607-a3a1-4031-aeea-ae2829708155",
   "metadata": {},
   "source": [
    "### This a simple arithmetic expression to mutiply then add integers (3*4) + 5"
   ]
  },
  {
   "cell_type": "markdown",
   "id": "dc2d814e-f3d8-428f-93a8-df1840f4cac8",
   "metadata": {},
   "source": [
    "(3*4)+5"
   ]
  },
  {
   "cell_type": "code",
   "execution_count": 21,
   "id": "a1678a06-5d66-49aa-95ea-3f4d2b2e4864",
   "metadata": {},
   "outputs": [
    {
     "data": {
      "text/plain": [
       "17"
      ]
     },
     "execution_count": 21,
     "metadata": {},
     "output_type": "execute_result"
    }
   ],
   "source": [
    "(3*4)+5"
   ]
  },
  {
   "cell_type": "code",
   "execution_count": 27,
   "id": "bd44735f-a38a-485b-97e6-695f21d8ad41",
   "metadata": {},
   "outputs": [],
   "source": [
    "#This is a simple arithmatic expression to multiply then add integers"
   ]
  },
  {
   "cell_type": "code",
   "execution_count": 29,
   "id": "267727e6-188c-4fff-8da7-8815cfc45073",
   "metadata": {},
   "outputs": [
    {
     "data": {
      "text/plain": [
       "17"
      ]
     },
     "execution_count": 29,
     "metadata": {},
     "output_type": "execute_result"
    }
   ],
   "source": [
    "(3*4)+5"
   ]
  },
  {
   "cell_type": "code",
   "execution_count": 31,
   "id": "edf6fef7-3c64-4bda-bebc-ef7e99758657",
   "metadata": {},
   "outputs": [],
   "source": [
    "#This will convert 200 minutes to hours by diving by 60"
   ]
  },
  {
   "cell_type": "code",
   "execution_count": 33,
   "id": "59d52af5-be12-4030-82af-8d2e6ddd67e9",
   "metadata": {},
   "outputs": [
    {
     "data": {
      "text/plain": [
       "3.3333333333333335"
      ]
     },
     "execution_count": 33,
     "metadata": {},
     "output_type": "execute_result"
    }
   ],
   "source": [
    "200/60"
   ]
  },
  {
   "cell_type": "markdown",
   "id": "c4577273-ac46-4a75-ad58-eb37928469e7",
   "metadata": {},
   "source": [
    "## Author\n",
    "Eshita"
   ]
  },
  {
   "cell_type": "code",
   "execution_count": null,
   "id": "49562741-9536-4993-bdd2-989f044ba033",
   "metadata": {},
   "outputs": [],
   "source": []
  }
 ],
 "metadata": {
  "kernelspec": {
   "display_name": "Python 3 (ipykernel)",
   "language": "python",
   "name": "python3"
  },
  "language_info": {
   "codemirror_mode": {
    "name": "ipython",
    "version": 3
   },
   "file_extension": ".py",
   "mimetype": "text/x-python",
   "name": "python",
   "nbconvert_exporter": "python",
   "pygments_lexer": "ipython3",
   "version": "3.12.4"
  }
 },
 "nbformat": 4,
 "nbformat_minor": 5
}
